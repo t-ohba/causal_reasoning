{
 "cells": [
  {
   "cell_type": "markdown",
   "metadata": {},
   "source": [
    "## 傾向スコア\n",
    "- 岩波DS vol.3 CM接触のアプリ利用への因果効果推定（https://github.com/iwanami-datascience/vol3/tree/master/kato%26hoshino ）"
   ]
  },
  {
   "cell_type": "code",
   "execution_count": 1,
   "metadata": {},
   "outputs": [],
   "source": [
    "import numpy as np\n",
    "import pandas as pd\n",
    "from sklearn.linear_model import LogisticRegression\n",
    "from sklearn.metrics import roc_auc_score"
   ]
  },
  {
   "cell_type": "markdown",
   "metadata": {},
   "source": [
    "### データの読み込み"
   ]
  },
  {
   "cell_type": "code",
   "execution_count": 2,
   "metadata": {},
   "outputs": [
    {
     "data": {
      "text/plain": [
       "Index(['cm_dummy', 'gamedummy', 'area_kanto', 'area_keihan', 'area_tokai',\n",
       "       'area_keihanshin', 'age', 'sex', 'marry_dummy', 'job_dummy1',\n",
       "       'job_dummy2', 'job_dummy3', 'job_dummy4', 'job_dummy5', 'job_dummy6',\n",
       "       'job_dummy7', 'job_dummy8', 'inc', 'pmoney', 'fam_str_dummy1',\n",
       "       'fam_str_dummy2', 'fam_str_dummy3', 'fam_str_dummy4', 'fam_str_dummy5',\n",
       "       'child_dummy', 'T', 'F1', 'F2', 'F3', 'M1', 'M2', 'M3', 'TVwatch_day',\n",
       "       'gamesecond', 'gamecount'],\n",
       "      dtype='object')"
      ]
     },
     "execution_count": 2,
     "metadata": {},
     "output_type": "execute_result"
    }
   ],
   "source": [
    "data = pd.read_csv('./q_data_x.csv')\n",
    "data.columns"
   ]
  },
  {
   "cell_type": "code",
   "execution_count": 3,
   "metadata": {},
   "outputs": [],
   "source": [
    "X = data[['TVwatch_day', 'age', 'sex', 'marry_dummy', 'child_dummy', 'inc', 'pmoney','area_kanto', 'area_tokai', 'area_keihanshin', \n",
    "          'job_dummy1', 'job_dummy2', 'job_dummy3', 'job_dummy4', 'job_dummy5', 'job_dummy6', 'job_dummy7',\n",
    "          'fam_str_dummy1', 'fam_str_dummy2', 'fam_str_dummy3', 'fam_str_dummy4']]\n",
    "Z = data['cm_dummy']"
   ]
  },
  {
   "cell_type": "markdown",
   "metadata": {},
   "source": [
    "### 傾向スコアの推定\n",
    "- $e(X_i) = p(Z_i=1|X_i)$\n",
    "\n",
    "ユーザー$i$が処置群に存在する（$Z_i=1$）確率"
   ]
  },
  {
   "cell_type": "code",
   "execution_count": 4,
   "metadata": {},
   "outputs": [],
   "source": [
    "lr = LogisticRegression()\n",
    "lr.fit(X, Z)\n",
    "ps = lr.predict_proba(X)[:, 1]"
   ]
  },
  {
   "cell_type": "code",
   "execution_count": 5,
   "metadata": {},
   "outputs": [
    {
     "name": "stdout",
     "output_type": "stream",
     "text": [
      "AUC = 0.789\n"
     ]
    }
   ],
   "source": [
    "print('AUC = {:.3f}'.format(roc_auc_score(y_true=Z, y_score=ps)))"
   ]
  },
  {
   "cell_type": "code",
   "execution_count": 6,
   "metadata": {},
   "outputs": [],
   "source": [
    "data = pd.concat([data, pd.DataFrame(ps, columns=['propensity_score'])], axis = 1)"
   ]
  },
  {
   "cell_type": "markdown",
   "metadata": {},
   "source": [
    "### 因果効果推定"
   ]
  },
  {
   "cell_type": "code",
   "execution_count": 7,
   "metadata": {},
   "outputs": [],
   "source": [
    "data_treated = data[data['cm_dummy']==1]\n",
    "data_untreated = data[data['cm_dummy']==0]"
   ]
  },
  {
   "cell_type": "markdown",
   "metadata": {},
   "source": [
    "- CM接触群とCM非接触群の平均値の比較差 \n",
    "\n",
    "$E(Y_1|Z=1) - E(Y_0|Z=0)$\n",
    "\n",
    "割り付け$Z$がランダムであれば、$Z$の因果効果は正しく推定できる"
   ]
  },
  {
   "cell_type": "code",
   "execution_count": 8,
   "metadata": {},
   "outputs": [
    {
     "name": "stdout",
     "output_type": "stream",
     "text": [
      "E(Y1|Z=1) = 0.075\n",
      "E(Y0|Z=0) = 0.073\n",
      "diff = 0.002\n"
     ]
    }
   ],
   "source": [
    "avgT = np.mean(data_treated['gamedummy'])\n",
    "avgU = np.mean(data_untreated['gamedummy'])\n",
    "diff = avgT - avgU\n",
    "\n",
    "print('E(Y1|Z=1) = {:.3f}'.format(avgT))\n",
    "print('E(Y0|Z=0) = {:.3f}'.format(avgU))\n",
    "print('diff = {:.3f}'.format(diff))"
   ]
  },
  {
   "cell_type": "markdown",
   "metadata": {},
   "source": [
    "- 平均処置効果（ATE, Average Treatment Effect）\n",
    "\n",
    "$ATE = E(Y_1) - E(Y_0)$\n",
    "\n",
    "（すべての人がCMに接触した場合のアプリ利用）-（すべての人がCMに接触しない場合のアプリ利用）"
   ]
  },
  {
   "cell_type": "code",
   "execution_count": 9,
   "metadata": {},
   "outputs": [
    {
     "name": "stdout",
     "output_type": "stream",
     "text": [
      "E1 = 0.088\n",
      "E0 = 0.062\n",
      "ATE = 0.027\n"
     ]
    }
   ],
   "source": [
    "E1 = np.sum((data['cm_dummy']/data['propensity_score'])*data['gamedummy']) / np.sum(data['cm_dummy']/data['propensity_score'])\n",
    "E0 = np.sum(((1-data['cm_dummy'])/(1-data['propensity_score']))*data['gamedummy']) \\\n",
    "        / np.sum((1-data['cm_dummy'])/(1-data['propensity_score']))\n",
    "ATE = E1 - E0\n",
    "\n",
    "print('E1 = {:.3f}'.format(E1))\n",
    "print('E0 = {:.3f}'.format(E0))\n",
    "print('ATE = {:.3f}'.format(ATE))"
   ]
  },
  {
   "cell_type": "markdown",
   "metadata": {},
   "source": [
    "- 処置群における平均処置効果（ATT, Average Treatment effect on the Treated）\n",
    "\n",
    "$ATT=E(Y_1|Z=1)-E(Y_0|Z=1)$\n",
    "\n",
    "CM接触者におけるアプリ利用の伸び"
   ]
  },
  {
   "cell_type": "code",
   "execution_count": 11,
   "metadata": {},
   "outputs": [
    {
     "name": "stdout",
     "output_type": "stream",
     "text": [
      "E1 = 0.075\n",
      "E0 = 0.048\n",
      "ATT = 0.027\n"
     ]
    }
   ],
   "source": [
    "E1 = np.mean(data_treated['gamedummy'])\n",
    "E0 = np.sum(((1-data['cm_dummy'])*data['propensity_score']/(1-data['propensity_score']))*data['gamedummy']) \\\n",
    "        / np.sum((1-data['cm_dummy'])*data['propensity_score']/(1-data['propensity_score']))\n",
    "ATT = E1 - E0\n",
    "\n",
    "print('E1 = {:.3f}'.format(E1))\n",
    "print('E0 = {:.3f}'.format(E0))\n",
    "print('ATT = {:.3f}'.format(ATT))"
   ]
  },
  {
   "cell_type": "code",
   "execution_count": null,
   "metadata": {},
   "outputs": [],
   "source": []
  }
 ],
 "metadata": {
  "kernelspec": {
   "display_name": "Python 3",
   "language": "python",
   "name": "python3"
  },
  "language_info": {
   "codemirror_mode": {
    "name": "ipython",
    "version": 3
   },
   "file_extension": ".py",
   "mimetype": "text/x-python",
   "name": "python",
   "nbconvert_exporter": "python",
   "pygments_lexer": "ipython3",
   "version": "3.7.0"
  }
 },
 "nbformat": 4,
 "nbformat_minor": 2
}
